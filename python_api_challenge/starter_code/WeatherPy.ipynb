{
 "cells": [
  {
   "cell_type": "markdown",
   "metadata": {},
   "source": [
    "# WeatherPy\n",
    "\n",
    "---\n",
    "\n",
    "## Starter Code to Generate Random Geographic Coordinates and a List of Cities"
   ]
  },
  {
   "cell_type": "code",
   "execution_count": 2,
   "metadata": {
    "scrolled": false
   },
   "outputs": [
    {
     "ename": "ImportError",
     "evalue": "DLL load failed while importing _imaging: The specified module could not be found.",
     "output_type": "error",
     "traceback": [
      "\u001b[1;31m---------------------------------------------------------------------------\u001b[0m",
      "\u001b[1;31mImportError\u001b[0m                               Traceback (most recent call last)",
      "Cell \u001b[1;32mIn[2], line 2\u001b[0m\n\u001b[0;32m      1\u001b[0m \u001b[38;5;66;03m# Dependencies and Setup\u001b[39;00m\n\u001b[1;32m----> 2\u001b[0m \u001b[38;5;28;01mimport\u001b[39;00m \u001b[38;5;21;01mmatplotlib\u001b[39;00m\u001b[38;5;21;01m.\u001b[39;00m\u001b[38;5;21;01mpyplot\u001b[39;00m \u001b[38;5;28;01mas\u001b[39;00m \u001b[38;5;21;01mplt\u001b[39;00m\n\u001b[0;32m      3\u001b[0m \u001b[38;5;28;01mimport\u001b[39;00m \u001b[38;5;21;01mpandas\u001b[39;00m \u001b[38;5;28;01mas\u001b[39;00m \u001b[38;5;21;01mpd\u001b[39;00m\n\u001b[0;32m      4\u001b[0m \u001b[38;5;28;01mimport\u001b[39;00m \u001b[38;5;21;01mnumpy\u001b[39;00m \u001b[38;5;28;01mas\u001b[39;00m \u001b[38;5;21;01mnp\u001b[39;00m\n",
      "File \u001b[1;32m~\\anaconda3\\lib\\site-packages\\matplotlib\\__init__.py:131\u001b[0m\n\u001b[0;32m    127\u001b[0m \u001b[38;5;28;01mfrom\u001b[39;00m \u001b[38;5;21;01mpackaging\u001b[39;00m\u001b[38;5;21;01m.\u001b[39;00m\u001b[38;5;21;01mversion\u001b[39;00m \u001b[38;5;28;01mimport\u001b[39;00m parse \u001b[38;5;28;01mas\u001b[39;00m parse_version\n\u001b[0;32m    129\u001b[0m \u001b[38;5;66;03m# cbook must import matplotlib only within function\u001b[39;00m\n\u001b[0;32m    130\u001b[0m \u001b[38;5;66;03m# definitions, so it is safe to import from it here.\u001b[39;00m\n\u001b[1;32m--> 131\u001b[0m \u001b[38;5;28;01mfrom\u001b[39;00m \u001b[38;5;21;01m.\u001b[39;00m \u001b[38;5;28;01mimport\u001b[39;00m _api, _version, cbook, _docstring, rcsetup\n\u001b[0;32m    132\u001b[0m \u001b[38;5;28;01mfrom\u001b[39;00m \u001b[38;5;21;01mmatplotlib\u001b[39;00m\u001b[38;5;21;01m.\u001b[39;00m\u001b[38;5;21;01mcbook\u001b[39;00m \u001b[38;5;28;01mimport\u001b[39;00m sanitize_sequence\n\u001b[0;32m    133\u001b[0m \u001b[38;5;28;01mfrom\u001b[39;00m \u001b[38;5;21;01mmatplotlib\u001b[39;00m\u001b[38;5;21;01m.\u001b[39;00m\u001b[38;5;21;01m_api\u001b[39;00m \u001b[38;5;28;01mimport\u001b[39;00m MatplotlibDeprecationWarning\n",
      "File \u001b[1;32m~\\anaconda3\\lib\\site-packages\\matplotlib\\rcsetup.py:27\u001b[0m\n\u001b[0;32m     25\u001b[0m \u001b[38;5;28;01mfrom\u001b[39;00m \u001b[38;5;21;01mmatplotlib\u001b[39;00m \u001b[38;5;28;01mimport\u001b[39;00m _api, cbook\n\u001b[0;32m     26\u001b[0m \u001b[38;5;28;01mfrom\u001b[39;00m \u001b[38;5;21;01mmatplotlib\u001b[39;00m\u001b[38;5;21;01m.\u001b[39;00m\u001b[38;5;21;01mcbook\u001b[39;00m \u001b[38;5;28;01mimport\u001b[39;00m ls_mapper\n\u001b[1;32m---> 27\u001b[0m \u001b[38;5;28;01mfrom\u001b[39;00m \u001b[38;5;21;01mmatplotlib\u001b[39;00m\u001b[38;5;21;01m.\u001b[39;00m\u001b[38;5;21;01mcolors\u001b[39;00m \u001b[38;5;28;01mimport\u001b[39;00m Colormap, is_color_like\n\u001b[0;32m     28\u001b[0m \u001b[38;5;28;01mfrom\u001b[39;00m \u001b[38;5;21;01mmatplotlib\u001b[39;00m\u001b[38;5;21;01m.\u001b[39;00m\u001b[38;5;21;01m_fontconfig_pattern\u001b[39;00m \u001b[38;5;28;01mimport\u001b[39;00m parse_fontconfig_pattern\n\u001b[0;32m     29\u001b[0m \u001b[38;5;28;01mfrom\u001b[39;00m \u001b[38;5;21;01mmatplotlib\u001b[39;00m\u001b[38;5;21;01m.\u001b[39;00m\u001b[38;5;21;01m_enums\u001b[39;00m \u001b[38;5;28;01mimport\u001b[39;00m JoinStyle, CapStyle\n",
      "File \u001b[1;32m~\\anaconda3\\lib\\site-packages\\matplotlib\\colors.py:51\u001b[0m\n\u001b[0;32m     49\u001b[0m \u001b[38;5;28;01mfrom\u001b[39;00m \u001b[38;5;21;01mnumbers\u001b[39;00m \u001b[38;5;28;01mimport\u001b[39;00m Number\n\u001b[0;32m     50\u001b[0m \u001b[38;5;28;01mimport\u001b[39;00m \u001b[38;5;21;01mre\u001b[39;00m\n\u001b[1;32m---> 51\u001b[0m \u001b[38;5;28;01mfrom\u001b[39;00m \u001b[38;5;21;01mPIL\u001b[39;00m \u001b[38;5;28;01mimport\u001b[39;00m Image\n\u001b[0;32m     52\u001b[0m \u001b[38;5;28;01mfrom\u001b[39;00m \u001b[38;5;21;01mPIL\u001b[39;00m\u001b[38;5;21;01m.\u001b[39;00m\u001b[38;5;21;01mPngImagePlugin\u001b[39;00m \u001b[38;5;28;01mimport\u001b[39;00m PngInfo\n\u001b[0;32m     54\u001b[0m \u001b[38;5;28;01mimport\u001b[39;00m \u001b[38;5;21;01mmatplotlib\u001b[39;00m \u001b[38;5;28;01mas\u001b[39;00m \u001b[38;5;21;01mmpl\u001b[39;00m\n",
      "File \u001b[1;32m~\\anaconda3\\lib\\site-packages\\PIL\\Image.py:103\u001b[0m\n\u001b[0;32m     94\u001b[0m MAX_IMAGE_PIXELS \u001b[38;5;241m=\u001b[39m \u001b[38;5;28mint\u001b[39m(\u001b[38;5;241m1024\u001b[39m \u001b[38;5;241m*\u001b[39m \u001b[38;5;241m1024\u001b[39m \u001b[38;5;241m*\u001b[39m \u001b[38;5;241m1024\u001b[39m \u001b[38;5;241m/\u001b[39m\u001b[38;5;241m/\u001b[39m \u001b[38;5;241m4\u001b[39m \u001b[38;5;241m/\u001b[39m\u001b[38;5;241m/\u001b[39m \u001b[38;5;241m3\u001b[39m)\n\u001b[0;32m     97\u001b[0m \u001b[38;5;28;01mtry\u001b[39;00m:\n\u001b[0;32m     98\u001b[0m     \u001b[38;5;66;03m# If the _imaging C module is not present, Pillow will not load.\u001b[39;00m\n\u001b[0;32m     99\u001b[0m     \u001b[38;5;66;03m# Note that other modules should not refer to _imaging directly;\u001b[39;00m\n\u001b[0;32m    100\u001b[0m     \u001b[38;5;66;03m# import Image and use the Image.core variable instead.\u001b[39;00m\n\u001b[0;32m    101\u001b[0m     \u001b[38;5;66;03m# Also note that Image.core is not a publicly documented interface,\u001b[39;00m\n\u001b[0;32m    102\u001b[0m     \u001b[38;5;66;03m# and should be considered private and subject to change.\u001b[39;00m\n\u001b[1;32m--> 103\u001b[0m     \u001b[38;5;28;01mfrom\u001b[39;00m \u001b[38;5;21;01m.\u001b[39;00m \u001b[38;5;28;01mimport\u001b[39;00m _imaging \u001b[38;5;28;01mas\u001b[39;00m core\n\u001b[0;32m    105\u001b[0m     \u001b[38;5;28;01mif\u001b[39;00m __version__ \u001b[38;5;241m!=\u001b[39m \u001b[38;5;28mgetattr\u001b[39m(core, \u001b[38;5;124m\"\u001b[39m\u001b[38;5;124mPILLOW_VERSION\u001b[39m\u001b[38;5;124m\"\u001b[39m, \u001b[38;5;28;01mNone\u001b[39;00m):\n\u001b[0;32m    106\u001b[0m         msg \u001b[38;5;241m=\u001b[39m (\n\u001b[0;32m    107\u001b[0m             \u001b[38;5;124m\"\u001b[39m\u001b[38;5;124mThe _imaging extension was built for another version of Pillow or PIL:\u001b[39m\u001b[38;5;130;01m\\n\u001b[39;00m\u001b[38;5;124m\"\u001b[39m\n\u001b[0;32m    108\u001b[0m             \u001b[38;5;124mf\u001b[39m\u001b[38;5;124m\"\u001b[39m\u001b[38;5;124mCore version: \u001b[39m\u001b[38;5;132;01m{\u001b[39;00m\u001b[38;5;28mgetattr\u001b[39m(core, \u001b[38;5;124m'\u001b[39m\u001b[38;5;124mPILLOW_VERSION\u001b[39m\u001b[38;5;124m'\u001b[39m, \u001b[38;5;28;01mNone\u001b[39;00m)\u001b[38;5;132;01m}\u001b[39;00m\u001b[38;5;130;01m\\n\u001b[39;00m\u001b[38;5;124m\"\u001b[39m\n\u001b[0;32m    109\u001b[0m             \u001b[38;5;124mf\u001b[39m\u001b[38;5;124m\"\u001b[39m\u001b[38;5;124mPillow version: \u001b[39m\u001b[38;5;132;01m{\u001b[39;00m__version__\u001b[38;5;132;01m}\u001b[39;00m\u001b[38;5;124m\"\u001b[39m\n\u001b[0;32m    110\u001b[0m         )\n",
      "\u001b[1;31mImportError\u001b[0m: DLL load failed while importing _imaging: The specified module could not be found."
     ]
    }
   ],
   "source": [
    "# Dependencies and Setup\n",
    "import matplotlib.pyplot as plt\n",
    "import pandas as pd\n",
    "import numpy as np\n",
    "import requests\n",
    "import time\n",
    "from scipy.stats import linregress\n",
    "\n",
    "# Impor the OpenWeatherMap API key\n",
    "from api_keys import weather_api_key\n",
    "\n",
    "\n",
    "# Import citipy to determine the cities based on latitude and longitude\n",
    "from citipy import citipy\n"
   ]
  },
  {
   "cell_type": "code",
   "execution_count": null,
   "metadata": {},
   "outputs": [],
   "source": [
    "NUM_POINTS=1500"
   ]
  },
  {
   "cell_type": "markdown",
   "metadata": {},
   "source": [
    "### Generate the Cities List by Using the `citipy` Library"
   ]
  },
  {
   "cell_type": "code",
   "execution_count": null,
   "metadata": {},
   "outputs": [],
   "source": [
    "# Empty list for holding the latitude and longitude combinations\n",
    "lat_lngs = []\n",
    "\n",
    "# Empty list for holding the cities names\n",
    "cities = []\n",
    "\n",
    "# Range of latitudes and longitudes\n",
    "lat_range = (-90, 90)\n",
    "lng_range = (-180, 180)\n",
    "\n",
    "# Create a set of random lat and lng combinations\n",
    "lats = np.random.uniform(lat_range[0], lat_range[1], size=NUM_POINTS)\n",
    "lngs = np.random.uniform(lng_range[0], lng_range[1], size=NUM_POINTS)\n",
    "lat_lngs = zip(lats, lngs)\n",
    "\n",
    "# Identify nearest city for each lat, lng combination\n",
    "for lat_lng in lat_lngs:\n",
    "    city = citipy.nearest_city(lat_lng[0], lat_lng[1]).city_name\n",
    "    \n",
    "    # If the city is unique, then add it to a our cities list\n",
    "    if city not in cities:\n",
    "        cities.append(city)\n",
    "\n",
    "# Print the city count to confirm sufficient count\n",
    "print(f\"Number of cities in the list: {len(cities)}\")"
   ]
  },
  {
   "cell_type": "markdown",
   "metadata": {},
   "source": [
    "---"
   ]
  },
  {
   "cell_type": "markdown",
   "metadata": {},
   "source": [
    "## Requirement 1: Create Plots to Showcase the Relationship Between Weather Variables and Latitude\n",
    "\n",
    "### Use the OpenWeatherMap API to retrieve weather data from the cities list generated in the started code"
   ]
  },
  {
   "cell_type": "code",
   "execution_count": null,
   "metadata": {},
   "outputs": [],
   "source": [
    "# Set the API base URL\n",
    "weather_api_key = \"2fb1f3008ee50d88b7eb0c02a7ee7cb3\"\n",
    "base_url = f\"http://api.openweathermap.org/data/2.5/weather?appid={weather_api_key}&units=imperial\"\n",
    "\n",
    "\n",
    "# Define an empty list to fetch the weather data for each city\n",
    "city_data = []\n",
    "\n",
    "# Print to logger\n",
    "print(\"Beginning Data Retrieval     \")\n",
    "print(\"-----------------------------\")\n",
    "\n",
    "# Create counters\n",
    "record_count = 1\n",
    "set_count = 1\n",
    "\n",
    "# Loop through all the cities in our list to fetch weather data\n",
    "for i, city in enumerate(cities):\n",
    "        \n",
    "    # Group cities in sets of 50 for logging purposes\n",
    "    if (i % 50 == 0 and i >= 50):\n",
    "        set_count += 1\n",
    "        record_count = 0\n",
    "\n",
    "    # Create endpoint URL with each city\n",
    "    city_url = base_url + \"&q=\" + city\n",
    "    \n",
    "    # Log the url, record, and set numbers\n",
    "    print(\"Processing Record %s of Set %s | %s\" % (record_count, set_count, city))\n",
    "\n",
    "    # Add 1 to the record count\n",
    "    record_count += 1\n",
    "    \n",
    "\n",
    "    # Run an API request for each of the cities\n",
    "    try:\n",
    "        # Parse the JSON and retrieve data\n",
    "        city_weather = requests.get(city_url).json()\n",
    "\n",
    "        # Parse out latitude, longitude, max temp, humidity, cloudiness, wind speed, country, and date\n",
    "        city_lat = city_weather[\"coord\"][\"lat\"]\n",
    "        city_lng = city_weather[\"coord\"][\"lon\"]\n",
    "        city_max_temp = city_weather['main']['temp_max']\n",
    "        city_humidity = city_weather[\"main\"][\"humidity\"]\n",
    "        city_clouds = city_weather[\"clouds\"][\"all\"]\n",
    "        city_wind = city_weather[\"wind\"][\"speed\"]\n",
    "        city_country = city_weather[\"sys\"][\"country\"]\n",
    "        city_date = city_weather[\"dt\"]\n",
    "\n",
    "        # Append the City information into city_data list\n",
    "        city_data.append({\"City\": city, \n",
    "                          \"Lat\": city_lat, \n",
    "                          \"Lng\": city_lng, \n",
    "                          \"Max Temp\": city_max_temp,\n",
    "                          \"Humidity\": city_humidity,\n",
    "                          \"Cloudiness\": city_clouds,\n",
    "                          \"Wind Speed\": city_wind,\n",
    "                          \"Country\": city_country,\n",
    "                          \"Date\": city_date})\n",
    "\n",
    "    # If an error is experienced, skip the city\n",
    "    except:\n",
    "       # print(\"City not found. Skipping...\")\n",
    "        pass\n",
    "    \n",
    "\n",
    "              \n",
    "# Indicate that Data Loading is complete \n",
    "print(\"-----------------------------\")\n",
    "print(\"Data Retrieval Complete      \")\n",
    "print(\"-----------------------------\")"
   ]
  },
  {
   "cell_type": "code",
   "execution_count": null,
   "metadata": {},
   "outputs": [],
   "source": [
    "# Convert the cities weather data into a Pandas DataFrame\n",
    "city_data_df = pd.DataFrame(city_data)\n"
   ]
  },
  {
   "cell_type": "code",
   "execution_count": null,
   "metadata": {},
   "outputs": [],
   "source": [
    "# Display sample data\n",
    "city_data_df.head(5)"
   ]
  },
  {
   "cell_type": "code",
   "execution_count": null,
   "metadata": {},
   "outputs": [],
   "source": [
    "# Export the City_Data into a csv\n",
    "city_data_df.to_csv(\"../output_data/cities.csv\", index_label=\"City_ID\")"
   ]
  },
  {
   "cell_type": "code",
   "execution_count": null,
   "metadata": {},
   "outputs": [],
   "source": [
    "# Read saved data\n",
    "city_data_df = pd.read_csv(\"../output_data/cities.csv\", index_col=\"City_ID\")\n",
    "\n",
    "# Display sample data\n",
    "city_data_df.head()"
   ]
  },
  {
   "cell_type": "markdown",
   "metadata": {},
   "source": [
    "### Create the Scatter Plots Requested\n",
    "\n",
    "#### Latitude Vs. Temperature"
   ]
  },
  {
   "cell_type": "code",
   "execution_count": null,
   "metadata": {
    "tags": []
   },
   "outputs": [],
   "source": [
    "# Build scatter plot for latitude vs. temperature\n",
    "# Build scatter plot for latitude vs. temperature\n",
    "plt.scatter(city_data_df[\"Lat\"], \n",
    "           city_data_df[\"Max Temp\"],\n",
    "           edgecolor=\"black\", linewidths=1, marker=\"o\", \n",
    "           alpha=0.8, label=\"Cities\")\n",
    "\n",
    "#Incorporate the other graph properties\n",
    "plt.title(\"City Latitude vs. Max Temperature (%s)\" % time.strftime(\"%x\"))\n",
    "plt.ylabel(\"Max Temperature (F)\")\n",
    "plt.xlabel(\"Latitude\")\n",
    "plt.grid(True)\n",
    "\n",
    "# Save the figure\n",
    "#plt.savefig(\"output_data/Fig1.png\")\n",
    "\n",
    "# Show plot\n",
    "plt.show()"
   ]
  },
  {
   "cell_type": "markdown",
   "metadata": {},
   "source": [
    "#### Latitude Vs. Humidity"
   ]
  },
  {
   "cell_type": "code",
   "execution_count": null,
   "metadata": {},
   "outputs": [],
   "source": [
    "# Build the scatter plots for latitude vs. humidity\n",
    "plt.scatter(city_data_df[\"Lat\"], \n",
    "            city_data_df[\"Humidity\"],\n",
    "            edgecolor=\"black\", linewidths=1, marker=\"o\", \n",
    "            alpha=0.8, label=\"Cities\")\n",
    "\n",
    "# Incorporate the other graph properties\n",
    "plt.title(\"City Latitude vs. Humidity (%s)\" % time.strftime(\"%x\"))\n",
    "plt.ylabel(\"Humidity (%)\")\n",
    "plt.xlabel(\"Latitude\")\n",
    "plt.grid(True)\n",
    "\n",
    "\n",
    "# Save the figure\n",
    "#plt.savefig(\"output_data/Fig2.png\")\n",
    "\n",
    "# Show plot\n",
    "plt.show()"
   ]
  },
  {
   "cell_type": "markdown",
   "metadata": {},
   "source": [
    "#### Latitude Vs. Cloudiness"
   ]
  },
  {
   "cell_type": "code",
   "execution_count": null,
   "metadata": {},
   "outputs": [],
   "source": [
    "# Build the scatter plots for latitude vs. cloudiness\n",
    "plt.scatter(city_data_df[\"Lat\"], \n",
    "            city_data_df[\"Cloudiness\"],\n",
    "            edgecolor=\"black\", linewidths=1, marker=\"o\", \n",
    "            alpha=0.8, label=\"Cities\")\n",
    "\n",
    "# Incorporate the other graph properties\n",
    "plt.title(\"City Latitude vs. Cloudiness (%s)\" % time.strftime(\"%x\"))\n",
    "plt.ylabel(\"Cloudiness (%)\")\n",
    "plt.xlabel(\"Latitude\")\n",
    "plt.grid(True)\n",
    "\n",
    "# Save the figure\n",
    "#plt.savefig(\"output_data/Fig3.png\")\n",
    "\n",
    "# Show plot\n",
    "plt.show()"
   ]
  },
  {
   "cell_type": "markdown",
   "metadata": {},
   "source": [
    "#### Latitude vs. Wind Speed Plot"
   ]
  },
  {
   "cell_type": "code",
   "execution_count": null,
   "metadata": {},
   "outputs": [],
   "source": [
    "# Build the scatter plots for latitude vs. wind speed\n",
    "plt.scatter(city_data_df[\"Lat\"], \n",
    "           city_data_df[\"Wind Speed\"],\n",
    "           edgecolor=\"black\", linewidths=1, marker=\"o\", \n",
    "           alpha=0.8, label=\"Cities\")\n",
    "\n",
    "# Incorporate the other graph properties\n",
    "plt.title(\"City Latitude vs. Wind Speed (%s)\" % time.strftime(\"%x\"))\n",
    "plt.ylabel(\"Wind Speed (mph)\")\n",
    "plt.xlabel(\"Latitude\")\n",
    "plt.grid(True)\n",
    "\n",
    "\n",
    "# Save the figure\n",
    "#plt.savefig(\"output_data/Fig4.png\")\n",
    "\n",
    "# Show plot\n",
    "plt.show()"
   ]
  },
  {
   "cell_type": "markdown",
   "metadata": {},
   "source": [
    "---\n",
    "\n",
    "## Requirement 2: Compute Linear Regression for Each Relationship\n"
   ]
  },
  {
   "cell_type": "code",
   "execution_count": null,
   "metadata": {},
   "outputs": [],
   "source": [
    "# Define a function to create Linear Regression plots\n",
    "# YOUR CODE HERE"
   ]
  },
  {
   "cell_type": "code",
   "execution_count": null,
   "metadata": {},
   "outputs": [],
   "source": [
    "# Create a DataFrame with the Northern Hemisphere data (Latitude >= 0)\n",
    "# Filter the northern hemisphere data\n",
    "northern_hemisphere = [city for city in city_data if city[\"Lat\"] >= 0]\n",
    "\n",
    "# Create a DataFrame from the northern hemisphere data\n",
    "northern_hemisphere_df = pd.DataFrame(northern_hemisphere)\n",
    "\n",
    "# Import the linregress function from the scipy.stats module\n",
    "from scipy.stats import linregress\n",
    "\n",
    "# Fit a linear model to the data\n",
    "slope, intercept, r_value, p_value, std_err = linregress(northern_hemisphere_df[\"Lat\"], northern_hemisphere_df[\"Max Temp\"])\n",
    "\n",
    "# Create a scatter plot of the data\n",
    "plt.scatter(northern_hemisphere_df[\"Lat\"], northern_hemisphere_df[\"Max Temp\"])\n",
    "\n",
    "# Add the regression line to the plot\n",
    "plt.plot(northern_hemisphere_df[\"Lat\"], intercept + slope*northern_hemisphere_df[\"Lat\"], '-r')\n",
    "\n",
    "# Add labels and title to the plot\n",
    "plt.xlabel('Latitude')\n",
    "plt.ylabel('Max Temperature (F)')\n",
    "plt.title('Northern Hemisphere: Temperature vs. Latitude')\n",
    "plt.grid()\n",
    "\n",
    "# Annotate the plot with the R-value\n",
    "plt.annotate(f'R-value: {r_value:.2f}', xy=(0.05, 0.10), xycoords='axes fraction')\n",
    "\n",
    "# Show the plot\n",
    "plt.show()"
   ]
  },
  {
   "cell_type": "code",
   "execution_count": null,
   "metadata": {},
   "outputs": [],
   "source": [
    "# Create a DataFrame with the Southern Hemisphere data (Latitude < 0)\n",
    "# Filter the northern hemisphere data\n",
    "southern_hemisphere = [city for city in city_data if city[\"Lat\"] <= 0]\n",
    "\n",
    "# Create a DataFrame from the northern hemisphere data\n",
    "southern_hemisphere_df = pd.DataFrame(southern_hemisphere)\n",
    "\n",
    "# Import the linregress function from the scipy.stats module\n",
    "from scipy.stats import linregress\n",
    "\n",
    "# Fit a linear model to the data\n",
    "slope, intercept, r_value, p_value, std_err = linregress(southern_hemisphere_df[\"Lat\"], southern_hemisphere_df[\"Max Temp\"])\n",
    "\n",
    "# Create a scatter plot of the data\n",
    "plt.scatter(southern_hemisphere_df[\"Lat\"], southern_hemisphere_df[\"Max Temp\"])\n",
    "\n",
    "# Add the regression line to the plot\n",
    "plt.plot(southern_hemisphere_df[\"Lat\"], intercept + slope*southern_hemisphere_df[\"Lat\"], '-r')\n",
    "\n",
    "# Add labels and title to the plot\n",
    "plt.xlabel('Latitude')\n",
    "plt.ylabel('Max Temperature (F)')\n",
    "plt.title('Southern Hemisphere: Temperature vs. Latitude')\n",
    "plt.grid()\n",
    "plt.legend([f'R-value: {r_value:.2f}'], markerscale=0)\n",
    "\n",
    "\n",
    "# Show the plot\n",
    "plt.show()"
   ]
  },
  {
   "cell_type": "markdown",
   "metadata": {},
   "source": [
    "###  Temperature vs. Latitude Linear Regression Plot"
   ]
  },
  {
   "cell_type": "code",
   "execution_count": null,
   "metadata": {},
   "outputs": [],
   "source": [
    "# Linear regression on Northern Hemisphere\n",
    "northern_hemisphere = [city for city in city_data if city[\"Lat\"] >= 0]\n",
    "\n",
    "# Import the linregress function from the scipy.stats module\n",
    "from scipy.stats import linregress\n",
    "\n",
    "# Perform linear regression on the northern hemisphere data\n",
    "slope, intercept, r_value, p_value, std_err = linregress(northern_hemisphere_df[\"Lat\"], northern_hemisphere_df[\"Humidity\"])\n",
    "linregress(northern_hemisphere_df[\"Lat\"], northern_hemisphere_df[\"Humidity\"])\n",
    "\n",
    "# Create a scatter plot of the data\n",
    "plt.scatter(northern_hemisphere_df[\"Lat\"], northern_hemisphere_df[\"Humidity\"])\n",
    "\n",
    "# Add the regression line to the plot\n",
    "plt.plot(northern_hemisphere_df[\"Lat\"], intercept + slope*northern_hemisphere_df[\"Lat\"], '-r')\n",
    "\n",
    "# Add labels and title to the plot\n",
    "plt.xlabel('Latitude')\n",
    "plt.ylabel('Humidity')\n",
    "plt.title('Northern Hemisphere: Humidity vs. Latitude')\n",
    "plt.grid()\n",
    "plt.legend([f'R-value: {r_value:.2f}'], markerscale=0)\n",
    "\n",
    "#Display\n",
    "plt.show()"
   ]
  },
  {
   "cell_type": "code",
   "execution_count": null,
   "metadata": {},
   "outputs": [],
   "source": [
    "# Linear regression on Southern Hemisphere\n",
    "southern_hemisphere = [city for city in city_data if city[\"Lat\"] >= 0]\n",
    "\n",
    "# Import the linregress function from the scipy.stats module\n",
    "from scipy.stats import linregress\n",
    "\n",
    "# Perform linear regression on the northern hemisphere data\n",
    "slope, intercept, r_value, p_value, std_err = linregress(southern_hemisphere_df[\"Lat\"], southern_hemisphere_df[\"Humidity\"])\n",
    "linregress(southern_hemisphere_df[\"Lat\"], southern_hemisphere_df[\"Humidity\"])\n",
    "\n",
    "# Create a scatter plot of the data\n",
    "plt.scatter(southern_hemisphere_df[\"Lat\"], southern_hemisphere_df[\"Humidity\"])\n",
    "\n",
    "# Add the regression line to the plot\n",
    "plt.plot(southern_hemisphere_df[\"Lat\"], intercept + slope*southern_hemisphere_df[\"Lat\"], '-r')\n",
    "\n",
    "# Add labels and title to the plot\n",
    "plt.xlabel('Latitude')\n",
    "plt.ylabel('Humidity')\n",
    "plt.title('Southern Hemisphere: Humidity vs. Latitude')\n",
    "plt.grid()\n",
    "plt.legend([f'R-value: {r_value:.2f}'], markerscale=0)\n",
    "\n",
    "\n",
    "#Display\n",
    "plt.show()"
   ]
  },
  {
   "cell_type": "markdown",
   "metadata": {},
   "source": [
    "**Discussion about the linear relationship:** YOUR RESPONSE HERE"
   ]
  },
  {
   "cell_type": "markdown",
   "metadata": {},
   "source": [
    "### Humidity vs. Latitude Linear Regression Plot"
   ]
  },
  {
   "cell_type": "code",
   "execution_count": null,
   "metadata": {},
   "outputs": [],
   "source": [
    " Linear regression on Northern Hemisphere\n",
    "northern_hemisphere = [city for city in city_data if city[\"Lat\"] >= 0]\n",
    "\n",
    "# Import the linregress function from the scipy.stats module\n",
    "from scipy.stats import linregress\n",
    "\n",
    "# Perform linear regression on the northern hemisphere data\n",
    "slope, intercept, r_value, p_value, std_err = linregress(northern_hemisphere_df[\"Lat\"], northern_hemisphere_df[\"Humidity\"])\n",
    "linregress(northern_hemisphere_df[\"Lat\"], northern_hemisphere_df[\"Humidity\"])\n",
    "\n",
    "# Create a scatter plot of the data\n",
    "plt.scatter(northern_hemisphere_df[\"Lat\"], northern_hemisphere_df[\"Humidity\"])\n",
    "\n",
    "# Add the regression line to the plot\n",
    "plt.plot(northern_hemisphere_df[\"Lat\"], intercept + slope*northern_hemisphere_df[\"Lat\"], '-r')\n",
    "\n",
    "# Add labels and title to the plot\n",
    "plt.xlabel('Latitude')\n",
    "plt.ylabel('Humidity')\n",
    "plt.title('Northern Hemisphere: Humidity vs. Latitude')\n",
    "plt.grid()\n",
    "plt.legend([f'R-value: {r_value:.2f}'], markerscale=0)\n",
    "\n",
    "#Display\n",
    "plt.show()"
   ]
  },
  {
   "cell_type": "code",
   "execution_count": null,
   "metadata": {},
   "outputs": [],
   "source": [
    "# Linear regression on Southern Hemisphere\n",
    "southern_hemisphere = [city for city in city_data if city[\"Lat\"] >= 0]\n",
    "\n",
    "# Import the linregress function from the scipy.stats module\n",
    "from scipy.stats import linregress\n",
    "\n",
    "# Perform linear regression on the northern hemisphere data\n",
    "slope, intercept, r_value, p_value, std_err = linregress(southern_hemisphere_df[\"Lat\"], southern_hemisphere_df[\"Humidity\"])\n",
    "linregress(southern_hemisphere_df[\"Lat\"], southern_hemisphere_df[\"Humidity\"])\n",
    "\n",
    "# Create a scatter plot of the data\n",
    "plt.scatter(southern_hemisphere_df[\"Lat\"], southern_hemisphere_df[\"Humidity\"])\n",
    "\n",
    "# Add the regression line to the plot\n",
    "plt.plot(southern_hemisphere_df[\"Lat\"], intercept + slope*southern_hemisphere_df[\"Lat\"], '-r')\n",
    "\n",
    "# Add labels and title to the plot\n",
    "plt.xlabel('Latitude')\n",
    "plt.ylabel('Humidity')\n",
    "plt.title('Southern Hemisphere: Humidity vs. Latitude')\n",
    "plt.grid()\n",
    "plt.legend([f'R-value: {r_value:.2f}'], markerscale=0)\n",
    "\n",
    "\n",
    "#Display\n",
    "plt.show()"
   ]
  },
  {
   "cell_type": "markdown",
   "metadata": {},
   "source": [
    "**Discussion about the linear relationship:** YOUR RESPONSE HERE"
   ]
  },
  {
   "cell_type": "markdown",
   "metadata": {},
   "source": [
    "### Cloudiness vs. Latitude Linear Regression Plot"
   ]
  },
  {
   "cell_type": "code",
   "execution_count": null,
   "metadata": {},
   "outputs": [],
   "source": [
    "# Northern Hemisphere\n",
    "# Linear regression on Northern Hemisphere\n",
    "northern_hemisphere = [city for city in city_data if city[\"Lat\"] >= 0]\n",
    "\n",
    "# Import the linregress function from the scipy.stats module\n",
    "from scipy.stats import linregress\n",
    "\n",
    "# Perform linear regression on the northern hemisphere data\n",
    "slope, intercept, r_value, p_value, std_err = linregress(northern_hemisphere_df[\"Lat\"], northern_hemisphere_df[\"Cloudiness\"])\n",
    "linregress(northern_hemisphere_df[\"Lat\"], northern_hemisphere_df[\"Cloudiness\"])\n",
    "\n",
    "# Create a scatter plot of the data\n",
    "plt.scatter(northern_hemisphere_df[\"Lat\"], northern_hemisphere_df[\"Cloudiness\"])\n",
    "\n",
    "# Add the regression line to the plot\n",
    "plt.plot(northern_hemisphere_df[\"Lat\"], intercept + slope*northern_hemisphere_df[\"Lat\"], '-r')\n",
    "\n",
    "# Add labels and title to the plot\n",
    "plt.xlabel('Latitude')\n",
    "plt.ylabel('Cloudiness')\n",
    "plt.title('Northern Hemisphere: Cloudiness vs. Latitude')\n",
    "plt.grid()\n",
    "plt.legend([f'R-value: {r_value:.2f}'], markerscale=0)\n",
    "\n",
    "#Display\n",
    "plt.show()"
   ]
  },
  {
   "cell_type": "code",
   "execution_count": null,
   "metadata": {},
   "outputs": [],
   "source": [
    "# Southern Hemisphere\n",
    "# Linear regression on Southern Hemisphere\n",
    "southern_hemisphere = [city for city in city_data if city[\"Lat\"] >= 0]\n",
    "\n",
    "# Import the linregress function from the scipy.stats module\n",
    "from scipy.stats import linregress\n",
    "\n",
    "# Perform linear regression on the northern hemisphere data\n",
    "slope, intercept, r_value, p_value, std_err = linregress(southern_hemisphere_df[\"Lat\"], southern_hemisphere_df[\"Cloudiness\"])\n",
    "linregress(southern_hemisphere_df[\"Lat\"], southern_hemisphere_df[\"Cloudiness\"])\n",
    "\n",
    "# Create a scatter plot of the data\n",
    "plt.scatter(southern_hemisphere_df[\"Lat\"], southern_hemisphere_df[\"Cloudiness\"])\n",
    "\n",
    "# Add the regression line to the plot\n",
    "plt.plot(southern_hemisphere_df[\"Lat\"], intercept + slope*southern_hemisphere_df[\"Lat\"], '-r')\n",
    "\n",
    "# Add labels and title to the plot\n",
    "plt.xlabel('Latitude')\n",
    "plt.ylabel('Cloudiness')\n",
    "plt.title('Southern Hemisphere: Cloudiness vs. Latitude')\n",
    "plt.grid()\n",
    "plt.legend([f'R-value: {r_value:.2f}'], markerscale=0)\n",
    "\n",
    "#Display\n",
    "plt.show()"
   ]
  },
  {
   "cell_type": "markdown",
   "metadata": {},
   "source": [
    "**Discussion about the linear relationship:** YOUR RESPONSE HERE"
   ]
  },
  {
   "cell_type": "markdown",
   "metadata": {},
   "source": [
    "### Wind Speed vs. Latitude Linear Regression Plot"
   ]
  },
  {
   "cell_type": "code",
   "execution_count": null,
   "metadata": {},
   "outputs": [],
   "source": [
    "# Northern Hemisphere\n",
    "# Linear regression on Northern Hemisphere\n",
    "northern_hemisphere = [city for city in city_data if city[\"Lat\"] >= 0]\n",
    "\n",
    "# Import the linregress function from the scipy.stats module\n",
    "from scipy.stats import linregress\n",
    "\n",
    "# Perform linear regression on the northern hemisphere data\n",
    "slope, intercept, r_value, p_value, std_err = linregress(northern_hemisphere_df[\"Lat\"], northern_hemisphere_df[\"Wind Speed\"])\n",
    "linregress(northern_hemisphere_df[\"Lat\"], northern_hemisphere_df[\"Wind Speed\"])\n",
    "\n",
    "# Create a scatter plot of the data\n",
    "plt.scatter(northern_hemisphere_df[\"Lat\"], northern_hemisphere_df[\"Wind Speed\"])\n",
    "\n",
    "# Add the regression line to the plot\n",
    "plt.plot(northern_hemisphere_df[\"Lat\"], intercept + slope*northern_hemisphere_df[\"Lat\"], '-r')\n",
    "\n",
    "# Add labels and title to the plot\n",
    "plt.xlabel('Latitude')\n",
    "plt.ylabel('Wind Speed')\n",
    "plt.title('Northern Hemisphere: Wind Speed vs. Latitude')\n",
    "plt.grid()\n",
    "plt.legend([f'R-value: {r_value:.2f}'], markerscale=0)\n",
    "\n",
    "\n",
    "#Display\n",
    "plt.show()"
   ]
  },
  {
   "cell_type": "code",
   "execution_count": null,
   "metadata": {},
   "outputs": [],
   "source": [
    "# Southern Hemisphere\n",
    "# Linear regression on Southern Hemisphere\n",
    "southern_hemisphere = [city for city in city_data if city[\"Lat\"] >= 0]\n",
    "\n",
    "# Import the linregress function from the scipy.stats module\n",
    "from scipy.stats import linregress\n",
    "\n",
    "# Perform linear regression on the northern hemisphere data\n",
    "slope, intercept, r_value, p_value, std_err = linregress(southern_hemisphere_df[\"Lat\"], southern_hemisphere_df[\"Wind Speed\"])\n",
    "linregress(southern_hemisphere_df[\"Lat\"], southern_hemisphere_df[\"Wind Speed\"])\n",
    "\n",
    "# Create a scatter plot of the data\n",
    "plt.scatter(southern_hemisphere_df[\"Lat\"], southern_hemisphere_df[\"Wind Speed\"])\n",
    "\n",
    "# Add the regression line to the plot\n",
    "plt.plot(southern_hemisphere_df[\"Lat\"], intercept + slope*southern_hemisphere_df[\"Lat\"], '-r')\n",
    "\n",
    "# Add labels and title to the plot\n",
    "plt.xlabel('Latitude')\n",
    "plt.ylabel('Wind Speed')\n",
    "plt.title('Southern Hemisphere: Wind Speed vs. Latitude')\n",
    "plt.grid()\n",
    "plt.legend([f'R-value: {r_value:.2f}'], markerscale=0)\n",
    "\n",
    "#Display\n",
    "plt.show()"
   ]
  },
  {
   "cell_type": "markdown",
   "metadata": {},
   "source": [
    "**Discussion about the linear relationship:** YOUR RESPONSE HERE"
   ]
  },
  {
   "cell_type": "code",
   "execution_count": null,
   "metadata": {},
   "outputs": [],
   "source": []
  }
 ],
 "metadata": {
  "anaconda-cloud": {},
  "kernel_info": {
   "name": "python3"
  },
  "kernelspec": {
   "display_name": "Python 3 (ipykernel)",
   "language": "python",
   "name": "python3"
  },
  "language_info": {
   "codemirror_mode": {
    "name": "ipython",
    "version": 3
   },
   "file_extension": ".py",
   "mimetype": "text/x-python",
   "name": "python",
   "nbconvert_exporter": "python",
   "pygments_lexer": "ipython3",
   "version": "3.10.9"
  },
  "latex_envs": {
   "LaTeX_envs_menu_present": true,
   "autoclose": false,
   "autocomplete": true,
   "bibliofile": "biblio.bib",
   "cite_by": "apalike",
   "current_citInitial": 1,
   "eqLabelWithNumbers": true,
   "eqNumInitial": 1,
   "hotkeys": {
    "equation": "Ctrl-E",
    "itemize": "Ctrl-I"
   },
   "labels_anchors": false,
   "latex_user_defs": false,
   "report_style_numbering": false,
   "user_envs_cfg": false
  },
  "nteract": {
   "version": "0.12.3"
  }
 },
 "nbformat": 4,
 "nbformat_minor": 4
}
